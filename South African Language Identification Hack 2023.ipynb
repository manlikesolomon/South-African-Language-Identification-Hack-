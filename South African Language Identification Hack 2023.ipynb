{
 "cells": [
  {
   "cell_type": "markdown",
   "id": "3a029e79",
   "metadata": {},
   "source": [
    "## Introduction\n",
    "In this notebook, we will be training a classification model to predict what South African language a given text is written in. South Africa is a linguistically diverse country with 11 official languages, including Zulu, Xhosa, Afrikaans, English, and more. Being able to automatically identify the language of a given text can have various applications, such as language detection for customer support or content filtering."
   ]
  },
  {
   "cell_type": "code",
   "execution_count": 1,
   "id": "1046bf51",
   "metadata": {},
   "outputs": [],
   "source": [
    "# import our libraries\n",
    "import pandas as pd\n",
    "import numpy as np\n",
    "import matplotlib.pyplot as plt\n",
    "import seaborn as sns\n",
    "import nltk\n",
    "import string"
   ]
  },
  {
   "cell_type": "code",
   "execution_count": 2,
   "id": "814caf0a",
   "metadata": {},
   "outputs": [],
   "source": [
    "# import our train and test data\n",
    "train_df = pd.read_csv('data/train_set.csv')\n",
    "test_df = pd.read_csv('data/test_set.csv')"
   ]
  },
  {
   "cell_type": "markdown",
   "id": "5866f9dd",
   "metadata": {},
   "source": [
    "## EDA and Text Preprocessing\n",
    "In this section, we will be carrying out exploratory data analysis (EDA) on our training data and performing various cleaning techniques on our text data to ensure its quality and prepare it for further analysis and modeling.\n",
    "\n",
    "1. Data Exploration:\n",
    "   - We will start by gaining an understanding of our training data. We will examine the distribution of South African language labels to determine if the dataset is balanced or skewed towards certain languages.\n",
    "   - We can visualize the distribution using bar plots or pie charts to get a clear overview.\n",
    "2. Preprocessing:\n",
    "   - We will be using the sklearn \"CountVectorizer\" class to encode our text data into a numerical representation based on word counts."
   ]
  },
  {
   "cell_type": "code",
   "execution_count": 3,
   "id": "6854285b",
   "metadata": {},
   "outputs": [
    {
     "data": {
      "text/html": [
       "<div>\n",
       "<style scoped>\n",
       "    .dataframe tbody tr th:only-of-type {\n",
       "        vertical-align: middle;\n",
       "    }\n",
       "\n",
       "    .dataframe tbody tr th {\n",
       "        vertical-align: top;\n",
       "    }\n",
       "\n",
       "    .dataframe thead th {\n",
       "        text-align: right;\n",
       "    }\n",
       "</style>\n",
       "<table border=\"1\" class=\"dataframe\">\n",
       "  <thead>\n",
       "    <tr style=\"text-align: right;\">\n",
       "      <th></th>\n",
       "      <th>lang_id</th>\n",
       "      <th>text</th>\n",
       "    </tr>\n",
       "  </thead>\n",
       "  <tbody>\n",
       "    <tr>\n",
       "      <th>0</th>\n",
       "      <td>xho</td>\n",
       "      <td>umgaqo-siseko wenza amalungiselelo kumaziko ax...</td>\n",
       "    </tr>\n",
       "    <tr>\n",
       "      <th>1</th>\n",
       "      <td>xho</td>\n",
       "      <td>i-dha iya kuba nobulumko bokubeka umsebenzi na...</td>\n",
       "    </tr>\n",
       "    <tr>\n",
       "      <th>2</th>\n",
       "      <td>eng</td>\n",
       "      <td>the province of kwazulu-natal department of tr...</td>\n",
       "    </tr>\n",
       "    <tr>\n",
       "      <th>3</th>\n",
       "      <td>nso</td>\n",
       "      <td>o netefatša gore o ba file dilo ka moka tše le...</td>\n",
       "    </tr>\n",
       "    <tr>\n",
       "      <th>4</th>\n",
       "      <td>ven</td>\n",
       "      <td>khomishini ya ndinganyiso ya mbeu yo ewa maana...</td>\n",
       "    </tr>\n",
       "  </tbody>\n",
       "</table>\n",
       "</div>"
      ],
      "text/plain": [
       "  lang_id                                               text\n",
       "0     xho  umgaqo-siseko wenza amalungiselelo kumaziko ax...\n",
       "1     xho  i-dha iya kuba nobulumko bokubeka umsebenzi na...\n",
       "2     eng  the province of kwazulu-natal department of tr...\n",
       "3     nso  o netefatša gore o ba file dilo ka moka tše le...\n",
       "4     ven  khomishini ya ndinganyiso ya mbeu yo ewa maana..."
      ]
     },
     "execution_count": 3,
     "metadata": {},
     "output_type": "execute_result"
    }
   ],
   "source": [
    "# view our dataset\n",
    "train_df.head()"
   ]
  },
  {
   "cell_type": "code",
   "execution_count": 4,
   "id": "90cce22b",
   "metadata": {},
   "outputs": [
    {
     "data": {
      "image/png": "[encoded data removed]",
      "text/plain": [
       "<Figure size 640x480 with 1 Axes>"
      ]
     },
     "metadata": {},
     "output_type": "display_data"
    }
   ],
   "source": [
    "# view the distribution of our target variable \"lang_id\"\n",
    "sns.countplot(data=train_df, x='lang_id', color='blue')\n",
    "plt.title('Target Varible Distribution');"
   ]
  },
  {
   "cell_type": "markdown",
   "id": "54921eb9",
   "metadata": {},
   "source": [
    "We can see that we have a balanced dataset with about 3000 examples for each of the languages."
   ]
  },
  {
   "cell_type": "code",
   "execution_count": 5,
   "id": "b030b520",
   "metadata": {},
   "outputs": [
    {
     "name": "stdout",
     "output_type": "stream",
     "text": [
      "<class 'pandas.core.frame.DataFrame'>\n",
      "RangeIndex: 33000 entries, 0 to 32999\n",
      "Data columns (total 2 columns):\n",
      " #   Column   Non-Null Count  Dtype \n",
      "---  ------   --------------  ----- \n",
      " 0   lang_id  33000 non-null  object\n",
      " 1   text     33000 non-null  object\n",
      "dtypes: object(2)\n",
      "memory usage: 515.8+ KB\n"
     ]
    }
   ],
   "source": [
    "# view a info on our dataset\n",
    "train_df.info()"
   ]
  },
  {
   "cell_type": "code",
   "execution_count": 6,
   "id": "cf94824d",
   "metadata": {},
   "outputs": [
    {
     "data": {
      "text/html": [
       "<div>\n",
       "<style scoped>\n",
       "    .dataframe tbody tr th:only-of-type {\n",
       "        vertical-align: middle;\n",
       "    }\n",
       "\n",
       "    .dataframe tbody tr th {\n",
       "        vertical-align: top;\n",
       "    }\n",
       "\n",
       "    .dataframe thead th {\n",
       "        text-align: right;\n",
       "    }\n",
       "</style>\n",
       "<table border=\"1\" class=\"dataframe\">\n",
       "  <thead>\n",
       "    <tr style=\"text-align: right;\">\n",
       "      <th></th>\n",
       "      <th>lang_id</th>\n",
       "      <th>text</th>\n",
       "    </tr>\n",
       "  </thead>\n",
       "  <tbody>\n",
       "    <tr>\n",
       "      <th>count</th>\n",
       "      <td>33000</td>\n",
       "      <td>33000</td>\n",
       "    </tr>\n",
       "    <tr>\n",
       "      <th>unique</th>\n",
       "      <td>11</td>\n",
       "      <td>29948</td>\n",
       "    </tr>\n",
       "    <tr>\n",
       "      <th>top</th>\n",
       "      <td>xho</td>\n",
       "      <td>ngokwesekhtjheni yomthetho ophathelene nalokhu...</td>\n",
       "    </tr>\n",
       "    <tr>\n",
       "      <th>freq</th>\n",
       "      <td>3000</td>\n",
       "      <td>17</td>\n",
       "    </tr>\n",
       "  </tbody>\n",
       "</table>\n",
       "</div>"
      ],
      "text/plain": [
       "       lang_id                                               text\n",
       "count    33000                                              33000\n",
       "unique      11                                              29948\n",
       "top        xho  ngokwesekhtjheni yomthetho ophathelene nalokhu...\n",
       "freq      3000                                                 17"
      ]
     },
     "execution_count": 6,
     "metadata": {},
     "output_type": "execute_result"
    }
   ],
   "source": [
    "# view description on our dataset\n",
    "train_df.describe()"
   ]
  },
  {
   "cell_type": "markdown",
   "id": "30d711ab",
   "metadata": {},
   "source": [
    "We can see that there are a few duplicate texts in our dataset. We will be droppimg duplicates."
   ]
  },
  {
   "cell_type": "code",
   "execution_count": 7,
   "id": "3e1fd37f",
   "metadata": {},
   "outputs": [],
   "source": [
    "# drop duplicates\n",
    "train_drop = train_df.drop_duplicates(subset='text')"
   ]
  },
  {
   "cell_type": "code",
   "execution_count": 9,
   "id": "562e06bc",
   "metadata": {},
   "outputs": [
    {
     "data": {
      "text/html": [
       "<div>\n",
       "<style scoped>\n",
       "    .dataframe tbody tr th:only-of-type {\n",
       "        vertical-align: middle;\n",
       "    }\n",
       "\n",
       "    .dataframe tbody tr th {\n",
       "        vertical-align: top;\n",
       "    }\n",
       "\n",
       "    .dataframe thead th {\n",
       "        text-align: right;\n",
       "    }\n",
       "</style>\n",
       "<table border=\"1\" class=\"dataframe\">\n",
       "  <thead>\n",
       "    <tr style=\"text-align: right;\">\n",
       "      <th></th>\n",
       "      <th>lang_id</th>\n",
       "      <th>text</th>\n",
       "    </tr>\n",
       "  </thead>\n",
       "  <tbody>\n",
       "    <tr>\n",
       "      <th>count</th>\n",
       "      <td>29948</td>\n",
       "      <td>29948</td>\n",
       "    </tr>\n",
       "    <tr>\n",
       "      <th>unique</th>\n",
       "      <td>11</td>\n",
       "      <td>29948</td>\n",
       "    </tr>\n",
       "    <tr>\n",
       "      <th>top</th>\n",
       "      <td>eng</td>\n",
       "      <td>umgaqo-siseko wenza amalungiselelo kumaziko ax...</td>\n",
       "    </tr>\n",
       "    <tr>\n",
       "      <th>freq</th>\n",
       "      <td>2998</td>\n",
       "      <td>1</td>\n",
       "    </tr>\n",
       "  </tbody>\n",
       "</table>\n",
       "</div>"
      ],
      "text/plain": [
       "       lang_id                                               text\n",
       "count    29948                                              29948\n",
       "unique      11                                              29948\n",
       "top        eng  umgaqo-siseko wenza amalungiselelo kumaziko ax...\n",
       "freq      2998                                                  1"
      ]
     },
     "execution_count": 9,
     "metadata": {},
     "output_type": "execute_result"
    }
   ],
   "source": [
    "# view description on our dataset\n",
    "train_drop.describe()"
   ]
  },
  {
   "cell_type": "markdown",
   "id": "12893334",
   "metadata": {},
   "source": [
    "## Process Text Data"
   ]
  },
  {
   "cell_type": "code",
   "execution_count": 148,
   "id": "d7e6a7d9",
   "metadata": {},
   "outputs": [],
   "source": [
    "# import our vectorizer\n",
    "from sklearn.feature_extraction.text import CountVectorizer"
   ]
  },
  {
   "cell_type": "code",
   "execution_count": 149,
   "id": "aab0820c",
   "metadata": {},
   "outputs": [],
   "source": [
    "# encode using count vectorizer\n",
    "vect = CountVectorizer(lowercase=True, ngram_range=(1,3), max_features=1500, stop_words='english')\n",
    "X_count = vect.fit_transform(train_drop['text'])"
   ]
  },
  {
   "cell_type": "code",
   "execution_count": 150,
   "id": "36f41c36",
   "metadata": {},
   "outputs": [
    {
     "data": {
      "text/plain": [
       "(29948, 1500)"
      ]
     },
     "execution_count": 150,
     "metadata": {},
     "output_type": "execute_result"
    }
   ],
   "source": [
    "X_count = X_count.toarray()\n",
    "X_count.shape"
   ]
  },
  {
   "cell_type": "code",
   "execution_count": 151,
   "id": "dcca98ef",
   "metadata": {},
   "outputs": [
    {
     "data": {
      "text/plain": [
       "(29948,)"
      ]
     },
     "execution_count": 151,
     "metadata": {},
     "output_type": "execute_result"
    }
   ],
   "source": [
    "# store our target varible in a variable\n",
    "y = train_drop['lang_id']\n",
    "y.shape"
   ]
  },
  {
   "cell_type": "markdown",
   "id": "74096c03",
   "metadata": {},
   "source": [
    "## Model Training and Evaluation\n",
    "In this section, we will be training the following machine learning models on our vectorized features: Logistic Regression, Random Forest Classifier, Support Vector Machine (SVM) and Naive Bayes Classifiers. These models are commonly used for classification tasks and can provide insights into different aspects of our data.\n",
    "\n",
    "1. Logistic Regression: We will leverage the logistic regression model to predict the class labels based on the vectorized features. Logistic regression is a linear model that works well for binary and multiclass classification. It will provide us with interpretable results and insights into the importance of different features in predicting the class labels.\n",
    "\n",
    "2. Random Forest Classifier: The random forest classifier is an ensemble model that combines multiple decision trees to make predictions. It is robust against overfitting and can handle high-dimensional feature spaces effectively. By training the random forest classifier on our vectorized features, we can leverage the ensemble of trees to capture complex relationships and improve prediction accuracy.\n",
    "\n",
    "3. Support Vector Machine (SVM): SVM is a powerful algorithm for classification tasks. It aims to find the optimal hyperplane that maximally separates the classes. By training an SVM on our vectorized features, we can identify the best decision boundary that separates the classes and generalize well to unseen data.\n",
    "\n",
    "4. Naive Bayes: Naive Bayes is a probabilistic algorithm that assumes independence between features given the class labels. Despite its simplifying assumption, Naive Bayes is efficient and effective in many classification tasks. By training Naive Bayes on our vectorized features, we can leverage its probabilistic nature to estimate the posterior probabilities of class labels and make predictions based on the highest probability. Naive Bayes is particularly popular for text classification and spam detection tasks, but it can also be applied to a wide range of multiclass classification problems.\n",
    "\n",
    "By comparing the performance of these machine learning models on our vectorized features, we can gain insights into which model works best for our specific classification problem and potentially identify important features for predicting the class labels."
   ]
  },
  {
   "cell_type": "code",
   "execution_count": 182,
   "id": "e0ee0180",
   "metadata": {},
   "outputs": [],
   "source": [
    "# import libraries\n",
    "from sklearn.model_selection import train_test_split\n",
    "from sklearn.linear_model import LogisticRegression\n",
    "from sklearn.tree import DecisionTreeClassifier\n",
    "from sklearn.ensemble import RandomForestClassifier\n",
    "from sklearn.neighbors import KNeighborsClassifier\n",
    "from sklearn.naive_bayes import GaussianNB, MultinomialNB\n",
    "from sklearn.svm import SVC\n",
    "from sklearn.metrics import classification_report, confusion_matrix\n",
    "from sklearn.metrics import accuracy_score\n",
    "from sklearn.metrics import f1_score\n",
    "from sklearn.metrics import precision_score\n",
    "from sklearn.metrics import recall_score\n",
    "from sklearn.model_selection import GridSearchCV\n",
    "from comet_ml import Experiment\n",
    "import warnings\n",
    "import logging\n",
    "warnings.filterwarnings('ignore')\n",
    "logging.getLogger(\"comet_ml\").setLevel(logging.CRITICAL)"
   ]
  },
  {
   "cell_type": "code",
   "execution_count": 153,
   "id": "d14efe80",
   "metadata": {},
   "outputs": [],
   "source": [
    "# define a function to handle training and evaluation\n",
    "def train_evaluate(model, X, y):\n",
    "    experiment = Experiment(\n",
    "    api_key = \"iqazL08SbQfg0MqWe4Jv1zo3p\",\n",
    "    project_name = \"south-african-language-identification-hack-2023\",\n",
    "    workspace=\"manlikesolomon\")\n",
    "\n",
    "    # split out predictors and target into test and train\n",
    "    X_train, X_test, y_train, y_test = train_test_split(X, y, random_state=42, shuffle=True)\n",
    "\n",
    "    # fit our model\n",
    "    model.fit(X_train, y_train)\n",
    "    pred = model.predict(X_test)\n",
    "    f1 = f1_score(y_test, pred,average='weighted')\n",
    "    precision = precision_score(y_test, pred, average='weighted')\n",
    "    recall = recall_score(y_test, pred, average='weighted')\n",
    "    accuracy = accuracy_score(y_test, pred)\n",
    "\n",
    "    print('Accuracy: ', accuracy)\n",
    "    print('f1_score: ', f1)\n",
    "    print('Recall: ', recall)\n",
    "    print('Precision: ', precision)\n",
    "\n",
    "    metrics = {'Accuracy': accuracy, 'Precision':precision, 'Recall':recall, 'f1':f1}\n",
    "    params = model.get_params()\n",
    "    # log parameters\n",
    "    experiment.log_parameters(params)\n",
    "    experiment.log_metrics(metrics)\n",
    "    experiment.log_confusion_matrix(y_true=y_test, y_predicted=pred)\n",
    "    experiment.end()\n",
    "    return model, f1, precision, recall, accuracy"
   ]
  },
  {
   "cell_type": "markdown",
   "id": "04c47b52",
   "metadata": {},
   "source": [
    "### Logistic Regression"
   ]
  },
  {
   "cell_type": "code",
   "execution_count": 154,
   "id": "47c53123",
   "metadata": {},
   "outputs": [
    {
     "name": "stdout",
     "output_type": "stream",
     "text": [
      "Accuracy:  0.9684786964071056\n",
      "f1_score:  0.9683225134826711\n",
      "Recall:  0.9684786964071056\n",
      "Precision:  0.9684470721374074\n"
     ]
    }
   ],
   "source": [
    "# instantiate model object\n",
    "lr_count = LogisticRegression()\n",
    "# train and evaluate model\n",
    "lr_c,f1_lr, precision_lr, recall_lr, accuracy_lr = train_evaluate(lr_count,X_count,y)"
   ]
  },
  {
   "cell_type": "markdown",
   "id": "8fc0afdb",
   "metadata": {},
   "source": [
    "## Naive Bayes Model\n",
    "\n",
    "We will train two variations of the Naive Bayes algorithm:\n",
    "\n",
    "1. GaussianNB: Gaussian Naive Bayes assumes that the features follow a Gaussian (normal) distribution. It is suitable for continuous or numerical features. By estimating the mean and variance of each feature for each class, GaussianNB calculates the likelihood of observing a feature value given the class. It performs well when the feature distribution is approximately Gaussian.\n",
    "\n",
    "2. MultinomialNB: Multinomial Naive Bayes is designed for discrete or count-based features, typically used for text classification. It assumes that the features are generated from a multinomial distribution. MultinomialNB estimates the probabilities of observing each feature value given the class using frequency-based statistics. It works well with features represented as occurrence counts or term frequencies.\n",
    "\n",
    "By exploring both GaussianNB and MultinomialNB, we can assess their performance and select the most appropriate variant based on the nature of our features and the specific requirements of our classification problem."
   ]
  },
  {
   "cell_type": "code",
   "execution_count": 183,
   "id": "56c37788",
   "metadata": {},
   "outputs": [
    {
     "name": "stdout",
     "output_type": "stream",
     "text": [
      "Accuracy:  0.9467076265526914\n",
      "f1_score:  0.94488408960042\n",
      "Recall:  0.9467076265526914\n",
      "Precision:  0.9506204657139652\n"
     ]
    }
   ],
   "source": [
    "# instantiate model object\n",
    "nb_ga= GaussianNB()\n",
    "# train and evaluate model\n",
    "nb_g,f1_nb, precision_nb, recall_nb, accuracy_nb = train_evaluate(nb_ga,X_count,y)"
   ]
  },
  {
   "cell_type": "code",
   "execution_count": 184,
   "id": "6d888413",
   "metadata": {},
   "outputs": [
    {
     "name": "stdout",
     "output_type": "stream",
     "text": [
      "Accuracy:  0.9699479097101643\n",
      "f1_score:  0.9697497957965405\n",
      "Recall:  0.9699479097101643\n",
      "Precision:  0.9697511382891619\n"
     ]
    }
   ],
   "source": [
    "# instantiate model object\n",
    "nb_mu = MultinomialNB()\n",
    "# train and evaluate model\n",
    "nb_m,f1_nb_m, precision_nb_m, recall_nb_m, accuracy_nb_m = train_evaluate(nb_mu,X_count,y)"
   ]
  },
  {
   "cell_type": "markdown",
   "id": "30eff979",
   "metadata": {},
   "source": [
    "## Support Vector Classifier"
   ]
  },
  {
   "cell_type": "code",
   "execution_count": 156,
   "id": "454967ba",
   "metadata": {},
   "outputs": [
    {
     "name": "stdout",
     "output_type": "stream",
     "text": [
      "Accuracy:  0.9631361025778015\n",
      "f1_score:  0.9629087949396348\n",
      "Recall:  0.9631361025778015\n",
      "Precision:  0.9632062045498523\n"
     ]
    }
   ],
   "source": [
    "# instantiate model object\n",
    "svc_lin = SVC(kernel='linear')\n",
    "# train and evaluate model\n",
    "svc_l,f1_svc, precision_svc, recall_svc, accuracy_svc = train_evaluate(svc_lin,X_count,y)"
   ]
  },
  {
   "cell_type": "code",
   "execution_count": 157,
   "id": "0fcdb27b",
   "metadata": {},
   "outputs": [
    {
     "name": "stdout",
     "output_type": "stream",
     "text": [
      "Accuracy:  0.6743689061039134\n",
      "f1_score:  0.648291137122439\n",
      "Recall:  0.6743689061039134\n",
      "Precision:  0.9084194845316963\n"
     ]
    }
   ],
   "source": [
    "# instantiate model object\n",
    "svc_poly = SVC(kernel='poly')\n",
    "# train and evaluate model\n",
    "svc_p,f1_svc_p, precision_svc_p, recall_svc_p, accuracy_svc_p = train_evaluate(svc_poly,X_count,y)"
   ]
  },
  {
   "cell_type": "markdown",
   "id": "cbd1bfa9",
   "metadata": {},
   "source": [
    "## Random Forest Classifier"
   ]
  },
  {
   "cell_type": "code",
   "execution_count": 158,
   "id": "edae17e9",
   "metadata": {},
   "outputs": [
    {
     "name": "stdout",
     "output_type": "stream",
     "text": [
      "Accuracy:  0.9569921196741018\n",
      "f1_score:  0.9567172074313698\n",
      "Recall:  0.9569921196741018\n",
      "Precision:  0.956855870407425\n"
     ]
    }
   ],
   "source": [
    "# train using X_count\n",
    "# instantiate model object\n",
    "rfc = RandomForestClassifier(n_estimators=300)\n",
    "rfc_c,f1_rfc, precision_rfc, recall_rfc, accuracy_rfc = train_evaluate(rfc,X_count,y)"
   ]
  },
  {
   "cell_type": "markdown",
   "id": "9436efdb",
   "metadata": {},
   "source": [
    "### View Model Performance Metrics\n",
    "We will compare model performance using the following metrics:\n",
    "\n",
    "1. Accuracy: Accuracy measures the overall correctness of the model's predictions. It calculates the ratio of correctly predicted instances to the total number of instances in the dataset. A higher accuracy indicates a more accurate model.\n",
    "\n",
    "2. Recall: Recall, also known as sensitivity or true positive rate, measures the model's ability to find all positive instances. It calculates the ratio of correctly predicted positive instances to the total number of actual positive instances. Higher recall indicates a better ability to capture positive instances.\n",
    "\n",
    "3. Precision: Precision measures the model's ability to correctly identify positive predictions for each class. It calculates the ratio of correctly predicted positive instances to the total number of predicted positive instances. Higher precision indicates a lower rate of false positives.\n",
    "\n",
    "4. F1 Score: The F1 score is the harmonic mean of precision and recall. It provides a balanced measure that considers both precision and recall. The F1 score is useful when there is an uneven class distribution or when false positives and false negatives have different consequences."
   ]
  },
  {
   "cell_type": "code",
   "execution_count": 214,
   "id": "b3fcf507",
   "metadata": {},
   "outputs": [
    {
     "data": {
      "text/html": [
       "<div>\n",
       "<style scoped>\n",
       "    .dataframe tbody tr th:only-of-type {\n",
       "        vertical-align: middle;\n",
       "    }\n",
       "\n",
       "    .dataframe tbody tr th {\n",
       "        vertical-align: top;\n",
       "    }\n",
       "\n",
       "    .dataframe thead th {\n",
       "        text-align: right;\n",
       "    }\n",
       "</style>\n",
       "<table border=\"1\" class=\"dataframe\">\n",
       "  <thead>\n",
       "    <tr style=\"text-align: right;\">\n",
       "      <th></th>\n",
       "      <th>Accuracy</th>\n",
       "      <th>Precision</th>\n",
       "      <th>Recall</th>\n",
       "      <th>F1 Score</th>\n",
       "    </tr>\n",
       "  </thead>\n",
       "  <tbody>\n",
       "    <tr>\n",
       "      <th>MultinomialNB</th>\n",
       "      <td>0.969948</td>\n",
       "      <td>0.969751</td>\n",
       "      <td>0.969948</td>\n",
       "      <td>0.969750</td>\n",
       "    </tr>\n",
       "    <tr>\n",
       "      <th>Logistic Regression</th>\n",
       "      <td>0.968479</td>\n",
       "      <td>0.968447</td>\n",
       "      <td>0.968479</td>\n",
       "      <td>0.968323</td>\n",
       "    </tr>\n",
       "    <tr>\n",
       "      <th>Support Vector Classifier</th>\n",
       "      <td>0.963136</td>\n",
       "      <td>0.963206</td>\n",
       "      <td>0.963136</td>\n",
       "      <td>0.962909</td>\n",
       "    </tr>\n",
       "    <tr>\n",
       "      <th>Random Forest Classifier</th>\n",
       "      <td>0.956992</td>\n",
       "      <td>0.956856</td>\n",
       "      <td>0.956992</td>\n",
       "      <td>0.956717</td>\n",
       "    </tr>\n",
       "    <tr>\n",
       "      <th>GaussianNB</th>\n",
       "      <td>0.946708</td>\n",
       "      <td>0.950620</td>\n",
       "      <td>0.946708</td>\n",
       "      <td>0.944884</td>\n",
       "    </tr>\n",
       "  </tbody>\n",
       "</table>\n",
       "</div>"
      ],
      "text/plain": [
       "                           Accuracy  Precision    Recall  F1 Score\n",
       "MultinomialNB              0.969948   0.969751  0.969948  0.969750\n",
       "Logistic Regression        0.968479   0.968447  0.968479  0.968323\n",
       "Support Vector Classifier  0.963136   0.963206  0.963136  0.962909\n",
       "Random Forest Classifier   0.956992   0.956856  0.956992  0.956717\n",
       "GaussianNB                 0.946708   0.950620  0.946708  0.944884"
      ]
     },
     "execution_count": 214,
     "metadata": {},
     "output_type": "execute_result"
    }
   ],
   "source": [
    "# store metrics in a dictionary\n",
    "model_performance = {\n",
    "                    'Accuracy':\n",
    "                    {\n",
    "                        'Logistic Regression': accuracy_lr,\n",
    "                        'GaussianNB': accuracy_nb,\n",
    "                        'MultinomialNB': accuracy_nb_m,\n",
    "                        'Support Vector Classifier': accuracy_svc,\n",
    "                        'Random Forest Classifier': accuracy_rfc},\n",
    "                    'Precision':\n",
    "                    {\n",
    "                        'Logistic Regression': precision_lr,\n",
    "                        'GaussianNB': precision_nb,\n",
    "                        'MultinomialNB': precision_nb_m,\n",
    "                        'Support Vector Classifier': precision_svc,\n",
    "                        'Random Forest Classifier': precision_rfc},\n",
    "                    'Recall':\n",
    "                    {\n",
    "                        'Logistic Regression': recall_lr,\n",
    "                        'GaussianNB': recall_nb,\n",
    "                        'MultinomialNB': recall_nb_m,\n",
    "                        'Support Vector Classifier': recall_svc,\n",
    "                        'Random Forest Classifier': recall_rfc},\n",
    "                    'F1 Score':\n",
    "                    {\n",
    "                        'Logistic Regression': f1_lr,\n",
    "                        'GaussianNB': f1_nb,\n",
    "                        'MultinomialNB': f1_nb_m,\n",
    "                        'Support Vector Classifier': f1_svc,\n",
    "                        'Random Forest Classifier': f1_rfc}\n",
    "}\n",
    "# create dataframe from dictionary\n",
    "\n",
    "model_performance = pd.DataFrame(model_performance)\n",
    "model_performance.sort_values(by='F1 Score',ascending=False)"
   ]
  },
  {
   "cell_type": "code",
   "execution_count": 222,
   "id": "d11ce8e3",
   "metadata": {},
   "outputs": [
    {
     "data": {
      "image/png": "[encoded data removed]",
      "text/plain": [
       "<Figure size 640x480 with 1 Axes>"
      ]
     },
     "metadata": {},
     "output_type": "display_data"
    }
   ],
   "source": [
    "# plot performance metrics\n",
    "sns.set_style('whitegrid')\n",
    "model_performance.plot(kind='bar')\n",
    "plt.title('Model Performance');"
   ]
  },
  {
   "cell_type": "markdown",
   "id": "e8e3cce4",
   "metadata": {},
   "source": [
    "## Improving Model Performance"
   ]
  },
  {
   "cell_type": "markdown",
   "id": "e5fd39ff",
   "metadata": {},
   "source": [
    "### Using Heterogenous Ensamble Methods\n",
    "Heterogeneous ensemble methods combine multiple diverse models or algorithms to make predictions. These methods leverage the strengths of different models and aim to improve overall performance\n",
    "* Voting Classifier: Combines predictions from multiple classification models using voting mechanism for final prediction.\n",
    "* Stacking Classifier: Combines predictions from multiple classification models by training a meta-classifier on the base models' predictions"
   ]
  },
  {
   "cell_type": "markdown",
   "id": "8a3a5189",
   "metadata": {},
   "source": [
    "### Voting Classifier"
   ]
  },
  {
   "cell_type": "code",
   "execution_count": 185,
   "id": "60a0684c",
   "metadata": {},
   "outputs": [],
   "source": [
    "# importing voting classifier\n",
    "from sklearn.ensemble import VotingClassifier\n",
    "# intantiate model objects\n",
    "lr_v = LogisticRegression()\n",
    "rfc_v = RandomForestClassifier(n_estimators=300)\n",
    "nb_v = MultinomialNB()"
   ]
  },
  {
   "cell_type": "code",
   "execution_count": 190,
   "id": "95cd3b06",
   "metadata": {},
   "outputs": [],
   "source": [
    "# store models we will use from ensembling in a list\n",
    "models = [('lr',lr_v), ('rfc',rfc_v), ('nb', nb_v)]\n",
    "model_weights = [0.3,0.3,0.4]\n",
    "voting_classifier = VotingClassifier(estimators=models, weights=model_weights)"
   ]
  },
  {
   "cell_type": "code",
   "execution_count": 191,
   "id": "46f0cb85",
   "metadata": {},
   "outputs": [
    {
     "name": "stdout",
     "output_type": "stream",
     "text": [
      "Accuracy:  0.9706157339388273\n",
      "f1_score:  0.9704160575945601\n",
      "Recall:  0.9706157339388273\n",
      "Precision:  0.9705034019625962\n"
     ]
    }
   ],
   "source": [
    "# train using X_count\n",
    "vc,f1_vc, precision_vc, recall_vc, accuracy_vc = train_evaluate(voting_classifier,X_count,y)"
   ]
  },
  {
   "cell_type": "markdown",
   "id": "b82e4e2a",
   "metadata": {},
   "source": [
    "### Stacking Classifier"
   ]
  },
  {
   "cell_type": "code",
   "execution_count": 201,
   "id": "bfdf79ef",
   "metadata": {},
   "outputs": [],
   "source": [
    "# import stacking classifier\n",
    "# import a stacking regressor\n",
    "from sklearn.ensemble import StackingClassifier\n",
    "\n",
    "# intantiate model objects\n",
    "nb_s = MultinomialNB()\n",
    "lr_s = LogisticRegression()\n",
    "rfc_s = RandomForestClassifier(n_estimators=300)\n",
    "\n",
    "# store our base models and meta classifier\n",
    "base_models = [('lr',lr_s), ('rfc',rfc_s), ('nb',nb_s)]\n",
    "meta_classifier = LogisticRegression()\n",
    "\n",
    "# Create the stacking classifier\n",
    "stacking_classifier = StackingClassifier(estimators=base_models, final_estimator=meta_classifier)"
   ]
  },
  {
   "cell_type": "code",
   "execution_count": 202,
   "id": "661da353",
   "metadata": {},
   "outputs": [
    {
     "name": "stdout",
     "output_type": "stream",
     "text": [
      "Accuracy:  0.9728863363162815\n",
      "f1_score:  0.9727751646746337\n",
      "Recall:  0.9728863363162815\n",
      "Precision:  0.9727977476072217\n"
     ]
    }
   ],
   "source": [
    "# fit our stacking classifier\n",
    "sc,f1_sc, precision_sc, recall_sc, accuracy_sc = train_evaluate(stacking_classifier,X_count,y)"
   ]
  },
  {
   "cell_type": "code",
   "execution_count": 223,
   "id": "d167b46f",
   "metadata": {},
   "outputs": [],
   "source": [
    "# store model as a pickle file\n",
    "# Save the model to a file\n",
    "with open('models/sc_model.pkl', 'wb') as file:\n",
    "    pickle.dump(sc, file)"
   ]
  },
  {
   "cell_type": "markdown",
   "id": "3ff5b13d",
   "metadata": {},
   "source": [
    "## Make Predictions on Test Data"
   ]
  },
  {
   "cell_type": "code",
   "execution_count": 196,
   "id": "e0f9b418",
   "metadata": {},
   "outputs": [
    {
     "data": {
      "text/html": [
       "<div>\n",
       "<style scoped>\n",
       "    .dataframe tbody tr th:only-of-type {\n",
       "        vertical-align: middle;\n",
       "    }\n",
       "\n",
       "    .dataframe tbody tr th {\n",
       "        vertical-align: top;\n",
       "    }\n",
       "\n",
       "    .dataframe thead th {\n",
       "        text-align: right;\n",
       "    }\n",
       "</style>\n",
       "<table border=\"1\" class=\"dataframe\">\n",
       "  <thead>\n",
       "    <tr style=\"text-align: right;\">\n",
       "      <th></th>\n",
       "      <th>index</th>\n",
       "      <th>text</th>\n",
       "    </tr>\n",
       "  </thead>\n",
       "  <tbody>\n",
       "    <tr>\n",
       "      <th>0</th>\n",
       "      <td>1</td>\n",
       "      <td>Mmasepala, fa maemo a a kgethegileng a letlele...</td>\n",
       "    </tr>\n",
       "    <tr>\n",
       "      <th>1</th>\n",
       "      <td>2</td>\n",
       "      <td>Uzakwaziswa ngokufaneleko nakungafuneka eminye...</td>\n",
       "    </tr>\n",
       "    <tr>\n",
       "      <th>2</th>\n",
       "      <td>3</td>\n",
       "      <td>Tshivhumbeo tshi fana na ngano dza vhathu.</td>\n",
       "    </tr>\n",
       "    <tr>\n",
       "      <th>3</th>\n",
       "      <td>4</td>\n",
       "      <td>Kube inja nelikati betingevakala kutsi titsini...</td>\n",
       "    </tr>\n",
       "    <tr>\n",
       "      <th>4</th>\n",
       "      <td>5</td>\n",
       "      <td>Winste op buitelandse valuta.</td>\n",
       "    </tr>\n",
       "  </tbody>\n",
       "</table>\n",
       "</div>"
      ],
      "text/plain": [
       "   index                                               text\n",
       "0      1  Mmasepala, fa maemo a a kgethegileng a letlele...\n",
       "1      2  Uzakwaziswa ngokufaneleko nakungafuneka eminye...\n",
       "2      3         Tshivhumbeo tshi fana na ngano dza vhathu.\n",
       "3      4  Kube inja nelikati betingevakala kutsi titsini...\n",
       "4      5                      Winste op buitelandse valuta."
      ]
     },
     "execution_count": 196,
     "metadata": {},
     "output_type": "execute_result"
    }
   ],
   "source": [
    "test_df.head()"
   ]
  },
  {
   "cell_type": "code",
   "execution_count": 197,
   "id": "1d5a5942",
   "metadata": {},
   "outputs": [],
   "source": [
    "X_sub = vect.transform(test_df['text'])"
   ]
  },
  {
   "cell_type": "code",
   "execution_count": 198,
   "id": "26e2504a",
   "metadata": {},
   "outputs": [],
   "source": [
    "X_sub = X_sub.toarray()"
   ]
  },
  {
   "cell_type": "code",
   "execution_count": 203,
   "id": "85460d19",
   "metadata": {},
   "outputs": [],
   "source": [
    "# make predictions\n",
    "pred = sc.predict(X_sub)\n",
    "merged_df = pd.DataFrame({'index':test_df['index'], 'lang_id':pred})"
   ]
  },
  {
   "cell_type": "code",
   "execution_count": 205,
   "id": "9e5b6040",
   "metadata": {},
   "outputs": [],
   "source": [
    "# save predictions as a csv file\n",
    "merged_df.to_csv('data/predixct_sc5.gz', index=False, compression='gzip')"
   ]
  },
  {
   "cell_type": "code",
   "execution_count": null,
   "id": "c8ad7b02",
   "metadata": {},
   "outputs": [],
   "source": []
  }
 ],
 "metadata": {
  "kernelspec": {
   "display_name": "Python 3 (ipykernel)",
   "language": "python",
   "name": "python3"
  },
  "language_info": {
   "codemirror_mode": {
    "name": "ipython",
    "version": 3
   },
   "file_extension": ".py",
   "mimetype": "text/x-python",
   "name": "python",
   "nbconvert_exporter": "python",
   "pygments_lexer": "ipython3",
   "version": "3.8.15"
  }
 },
 "nbformat": 4,
 "nbformat_minor": 5
}
